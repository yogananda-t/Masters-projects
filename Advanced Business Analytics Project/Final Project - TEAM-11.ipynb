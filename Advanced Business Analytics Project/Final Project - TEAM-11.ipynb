{
 "cells": [
  {
   "cell_type": "markdown",
   "id": "3caa418f",
   "metadata": {},
   "source": [
    "## TEAM MEMBERS\n",
    "#### KARTHIK SAI TWARAKAVI\n",
    "#### YOGANANDA THEEGURU\n",
    "#### VENKATASAI NALLAPATI"
   ]
  },
  {
   "cell_type": "markdown",
   "id": "7c46fa3d",
   "metadata": {},
   "source": [
    "### Install PuLP Package"
   ]
  },
  {
   "cell_type": "code",
   "execution_count": 1,
   "id": "0ec9c181",
   "metadata": {},
   "outputs": [
    {
     "name": "stdout",
     "output_type": "stream",
     "text": [
      "Requirement already satisfied: pulp in c:\\users\\admin\\anaconda3\\lib\\site-packages (2.7.0)\n"
     ]
    },
    {
     "name": "stderr",
     "output_type": "stream",
     "text": [
      "ERROR: pip's dependency resolver does not currently take into account all the packages that are installed. This behaviour is the source of the following dependency conflicts.\n",
      "spyder 5.1.5 requires pyqt5<5.13, which is not installed.\n",
      "spyder 5.1.5 requires pyqtwebengine<5.13, which is not installed.\n",
      "jupyter-server 1.13.5 requires pywinpty<2; os_name == \"nt\", but you have pywinpty 2.0.2 which is incompatible.\n"
     ]
    },
    {
     "name": "stdout",
     "output_type": "stream",
     "text": [
      "Collecting rich\n",
      "  Downloading rich-13.3.5-py3-none-any.whl (238 kB)\n",
      "Collecting pygments<3.0.0,>=2.13.0\n",
      "  Downloading Pygments-2.15.1-py3-none-any.whl (1.1 MB)\n",
      "Collecting markdown-it-py<3.0.0,>=2.2.0\n",
      "  Downloading markdown_it_py-2.2.0-py3-none-any.whl (84 kB)\n",
      "Collecting mdurl~=0.1\n",
      "  Downloading mdurl-0.1.2-py3-none-any.whl (10.0 kB)\n",
      "Installing collected packages: mdurl, pygments, markdown-it-py, rich\n",
      "  Attempting uninstall: pygments\n",
      "    Found existing installation: Pygments 2.11.2\n",
      "    Uninstalling Pygments-2.11.2:\n",
      "      Successfully uninstalled Pygments-2.11.2\n",
      "Successfully installed markdown-it-py-2.2.0 mdurl-0.1.2 pygments-2.15.1 rich-13.3.5\n"
     ]
    }
   ],
   "source": [
    "!pip install pulp\n",
    "!pip install rich\n",
    "import pulp\n",
    "import pandas as pd"
   ]
  },
  {
   "cell_type": "markdown",
   "id": "3ea07640",
   "metadata": {},
   "source": [
    "### Adding Data"
   ]
  },
  {
   "cell_type": "code",
   "execution_count": 2,
   "id": "b9564a15",
   "metadata": {},
   "outputs": [],
   "source": [
    "feedstock_names = [\"Alkylate\", \"CCG\", \"SRG\", \"Isopentane\"]\n",
    "gasoline_names = [\"A\", \"B\", \"C\"]\n",
    "feedstock_avail = [140000, 130000, 140000, 110000] #In Gallons\n",
    "gasoline_req = [120000, 130000, 120000] #In Gallons\n",
    "price_gasoline = [3, 3.5, 4] #Dollar per Gallon\n",
    "price_feedstock = [4.5, 2.5, 2.25, 2.35] #Dollar per Gallon\n",
    "reid = [5, 8, 4, 20] # Reid vapor pressure\n",
    "low_tel = [98, 87, 83, 101] #Used for GAS A in milli liters/Gallon\n",
    "high_tel = [107, 93, 89, 108] #Used for GAS B & GAS C in milli liters/Gallon\n"
   ]
  },
  {
   "cell_type": "markdown",
   "id": "1692d745",
   "metadata": {},
   "source": [
    "### Formulate Linear programming Model"
   ]
  },
  {
   "cell_type": "code",
   "execution_count": 3,
   "id": "9c306c87",
   "metadata": {},
   "outputs": [],
   "source": [
    "prob = pulp.LpProblem(\"Gasoline_Blending\", pulp.LpMaximize) ##declaring to use Linear programming.Problem is named as Gasoline Blending"
   ]
  },
  {
   "cell_type": "markdown",
   "id": "91b2d10e",
   "metadata": {},
   "source": [
    "### Defining decision Variables"
   ]
  },
  {
   "cell_type": "code",
   "execution_count": 4,
   "id": "b285575e",
   "metadata": {},
   "outputs": [],
   "source": [
    "x = pulp.LpVariable.dicts(\"x\", ((i, j) for i in feedstock_names for j in gasoline_names), lowBound=0, cat='Continuous')"
   ]
  },
  {
   "cell_type": "code",
   "execution_count": 5,
   "id": "329a835e",
   "metadata": {},
   "outputs": [
    {
     "name": "stdout",
     "output_type": "stream",
     "text": [
      "{('Alkylate', 'A'): x_('Alkylate',_'A'), ('Alkylate', 'B'): x_('Alkylate',_'B'), ('Alkylate', 'C'): x_('Alkylate',_'C'), ('CCG', 'A'): x_('CCG',_'A'), ('CCG', 'B'): x_('CCG',_'B'), ('CCG', 'C'): x_('CCG',_'C'), ('SRG', 'A'): x_('SRG',_'A'), ('SRG', 'B'): x_('SRG',_'B'), ('SRG', 'C'): x_('SRG',_'C'), ('Isopentane', 'A'): x_('Isopentane',_'A'), ('Isopentane', 'B'): x_('Isopentane',_'B'), ('Isopentane', 'C'): x_('Isopentane',_'C')}\n"
     ]
    }
   ],
   "source": [
    "print(x) # Printing decision Variables"
   ]
  },
  {
   "cell_type": "code",
   "execution_count": 6,
   "id": "5e164f9e",
   "metadata": {},
   "outputs": [],
   "source": [
    "# Total used feedstock constraints\n",
    "for i, feedstock_name in enumerate(feedstock_names):\n",
    "    prob += pulp.lpSum(x[(feedstock_name, j)] for j in gasoline_names) <= feedstock_avail[i], f\"Feedstock_{feedstock_name}_constraint\"\n",
    "\n",
    "# Total made gasoline constraints and gasoline A >= gasoline B constraint\n",
    "prob += pulp.lpSum(x[(i, \"A\")] for i in feedstock_names) >= gasoline_req[0], \"Gasoline_A_constraint\"\n",
    "prob += pulp.lpSum(x[(i, \"B\")] for i in feedstock_names) >= gasoline_req[1], \"Gasoline_B_constraint\"\n",
    "prob += pulp.lpSum(x[(i, \"C\")] for i in feedstock_names) >= gasoline_req[2], \"Gasoline_C_constraint\"\n",
    "prob += pulp.lpSum(x[(i, \"A\")] for i in feedstock_names) >= pulp.lpSum(x[(i, \"B\")] for i in feedstock_names), \"Gasoline_A_ge_B_constraint\"\n",
    "\n",
    "# Reid vapor pressure constraints\n",
    "for j, gasoline_name in enumerate(gasoline_names):\n",
    "    prob += pulp.lpSum(reid[i] * x[(feedstock_names[i], gasoline_name)] for i in range(4)) <= 7 * pulp.lpSum(x[(i, gasoline_name)] for i in feedstock_names), f\"Reid_vapor_pressure_{gasoline_name}_constraint\"\n",
    "\n",
    "# Octane constraints\n",
    "prob += pulp.lpSum(low_tel[i] * x[(feedstock_names[i], \"A\")] for i in range(4)) >= 90 * pulp.lpSum(x[(i, \"A\")] for i in feedstock_names), \"Octane_A_constraint\"\n",
    "prob += pulp.lpSum(high_tel[i] * x[(feedstock_names[i], \"B\")] for i in range(4)) >= 97 * pulp.lpSum(x[(i, \"B\")] for i in feedstock_names), \"Octane_B_constraint\"\n",
    "prob += pulp.lpSum(high_tel[i] * x[(feedstock_names[i], \"C\")] for i in range(4)) >= 100 * pulp.lpSum(x[(i, \"C\")] for i in feedstock_names), \"Octane_C_constraint\"\n"
   ]
  },
  {
   "cell_type": "markdown",
   "id": "7c6d4d18",
   "metadata": {},
   "source": [
    "### Defining Objective Function"
   ]
  },
  {
   "cell_type": "code",
   "execution_count": 7,
   "id": "258bdba8",
   "metadata": {},
   "outputs": [],
   "source": [
    "revenue_gasoline = pulp.lpSum(price_gasoline[j] * pulp.lpSum(x[(i, gasoline_names[j])] for i in feedstock_names) for j in range(3))\n",
    "revenue_leftover_feedstock = pulp.lpSum(price_feedstock[i] * (feedstock_avail[i] - pulp.lpSum(x[(feedstock_names[i], j)] for j in gasoline_names)) for i in range(4))\n",
    "prob += revenue_gasoline + revenue_leftover_feedstock"
   ]
  },
  {
   "cell_type": "markdown",
   "id": "a7854d2c",
   "metadata": {},
   "source": [
    "### Problem Solving"
   ]
  },
  {
   "cell_type": "code",
   "execution_count": 8,
   "id": "bcc19c3a",
   "metadata": {},
   "outputs": [
    {
     "data": {
      "text/plain": [
       "1"
      ]
     },
     "execution_count": 8,
     "metadata": {},
     "output_type": "execute_result"
    }
   ],
   "source": [
    "prob.solve()"
   ]
  },
  {
   "cell_type": "markdown",
   "id": "b167e4ba",
   "metadata": {},
   "source": [
    "### Calculating Left Over Feedstocks"
   ]
  },
  {
   "cell_type": "code",
   "execution_count": 9,
   "id": "1e38d193",
   "metadata": {},
   "outputs": [
    {
     "data": {
      "text/html": [
       "<pre style=\"white-space:pre;overflow-x:auto;line-height:normal;font-family:Menlo,'DejaVu Sans Mono',consolas,'Courier New',monospace\"><span style=\"font-style: italic\">         Leftover Feedstocks and Revenue Generated         </span>\n",
       "┏━━━━━━━━━━━━┳━━━━━━━━━━━━━━━━━━━━┳━━━━━━━━━━━━━━━━━━━━━━━┓\n",
       "┃<span style=\"font-weight: bold\"> Feedstock  </span>┃<span style=\"font-weight: bold\"> Leftover (Gallons) </span>┃<span style=\"font-weight: bold\"> Revenue Generated ($) </span>┃\n",
       "┡━━━━━━━━━━━━╇━━━━━━━━━━━━━━━━━━━━╇━━━━━━━━━━━━━━━━━━━━━━━┩\n",
       "│ Alkylate   │ 0.0                │ 0.0                   │\n",
       "│ CCG        │ 42112.98           │ 105282.44             │\n",
       "│ SRG        │ 0.0                │ 0.0                   │\n",
       "│ Isopentane │ 62914.39           │ 147848.81             │\n",
       "└────────────┴────────────────────┴───────────────────────┘\n",
       "</pre>\n"
      ],
      "text/plain": [
       "\u001b[3m         Leftover Feedstocks and Revenue Generated         \u001b[0m\n",
       "┏━━━━━━━━━━━━┳━━━━━━━━━━━━━━━━━━━━┳━━━━━━━━━━━━━━━━━━━━━━━┓\n",
       "┃\u001b[1m \u001b[0m\u001b[1mFeedstock \u001b[0m\u001b[1m \u001b[0m┃\u001b[1m \u001b[0m\u001b[1mLeftover (Gallons)\u001b[0m\u001b[1m \u001b[0m┃\u001b[1m \u001b[0m\u001b[1mRevenue Generated ($)\u001b[0m\u001b[1m \u001b[0m┃\n",
       "┡━━━━━━━━━━━━╇━━━━━━━━━━━━━━━━━━━━╇━━━━━━━━━━━━━━━━━━━━━━━┩\n",
       "│ Alkylate   │ 0.0                │ 0.0                   │\n",
       "│ CCG        │ 42112.98           │ 105282.44             │\n",
       "│ SRG        │ 0.0                │ 0.0                   │\n",
       "│ Isopentane │ 62914.39           │ 147848.81             │\n",
       "└────────────┴────────────────────┴───────────────────────┘\n"
      ]
     },
     "metadata": {},
     "output_type": "display_data"
    }
   ],
   "source": [
    "# Import the necessary libraries\n",
    "from rich.console import Console\n",
    "from rich.table import Table\n",
    "from rich import print\n",
    "# Initialize the console object\n",
    "console = Console()\n",
    "# Create a table with rich\n",
    "table = Table(title=\"Leftover Feedstocks and Revenue Generated\", show_header=True, header_style=\"bold\")\n",
    "\n",
    "\n",
    "# Calculating leftover feedstocks and revenue generated\n",
    "leftover_feedstock = []\n",
    "revenue_generated = []\n",
    "for i, feedstock_name in enumerate(feedstock_names):\n",
    "    used_feedstock = sum(x[(feedstock_name, j)].value() for j in gasoline_names)\n",
    "    leftover_feedstock.append(feedstock_avail[i] - used_feedstock)\n",
    "    revenue_generated.append(leftover_feedstock[i] * price_feedstock[i])\n",
    "\n",
    "# Create a DataFrame for leftover feedstocks and revenue generated\n",
    "leftover_feedstock_dict = {\n",
    "    'Feedstock': feedstock_names,\n",
    "    'Leftover (Gallons)': leftover_feedstock,\n",
    "    'Revenue Generated ($)': revenue_generated\n",
    "}\n",
    "df_leftover_feedstock = pd.DataFrame(leftover_feedstock_dict)\n",
    "\n",
    "# Round values in the DataFrame to 2 decimal points\n",
    "df_leftover_feedstock = df_leftover_feedstock.round(2)\n",
    "\n",
    "\n",
    "# Add columns to the table\n",
    "for column in df_leftover_feedstock.columns:\n",
    "    table.add_column(column)\n",
    "\n",
    "# Add rows to the table\n",
    "for _, row in df_leftover_feedstock.iterrows():\n",
    "    table.add_row(*row.astype(str).tolist())\n",
    "\n",
    "\n",
    "# Display the table\n",
    "console.print(table)\n"
   ]
  },
  {
   "cell_type": "markdown",
   "id": "6ff6182e",
   "metadata": {},
   "source": [
    "### Problem Status & Results"
   ]
  },
  {
   "cell_type": "code",
   "execution_count": 10,
   "id": "35748ce9",
   "metadata": {},
   "outputs": [
    {
     "data": {
      "text/html": [
       "<pre style=\"white-space:pre;overflow-x:auto;line-height:normal;font-family:Menlo,'DejaVu Sans Mono',consolas,'Courier New',monospace\">Optimal solution found.\n",
       "</pre>\n"
      ],
      "text/plain": [
       "Optimal solution found.\n"
      ]
     },
     "metadata": {},
     "output_type": "display_data"
    },
    {
     "data": {
      "text/html": [
       "<pre style=\"white-space:pre;overflow-x:auto;line-height:normal;font-family:Menlo,'DejaVu Sans Mono',consolas,'Courier New',monospace\"><span style=\"font-style: italic\">           Decision Variables           </span>\n",
       "┏━━━━━━━━━━━━┳━━━━━━━━━━┳━━━━━━━━━━━━━━┓\n",
       "┃<span style=\"font-weight: bold\"> Feedstock  </span>┃<span style=\"font-weight: bold\"> Gasoline </span>┃<span style=\"font-weight: bold\"> Gallons Used </span>┃\n",
       "┡━━━━━━━━━━━━╇━━━━━━━━━━╇━━━━━━━━━━━━━━┩\n",
       "│ Alkylate   │ A        │ 37131.064    │\n",
       "│ Alkylate   │ B        │ 34312.268    │\n",
       "│ Alkylate   │ C        │ 68556.668    │\n",
       "│ CCG        │ A        │ 87887.023    │\n",
       "│ CCG        │ B        │ 0.0          │\n",
       "│ CCG        │ C        │ 0.0          │\n",
       "│ SRG        │ A        │ 4899.36      │\n",
       "│ SRG        │ B        │ 73457.249    │\n",
       "│ SRG        │ C        │ 61643.391    │\n",
       "│ Isopentane │ A        │ 82.552639    │\n",
       "│ Isopentane │ B        │ 22230.483    │\n",
       "│ Isopentane │ C        │ 24772.578    │\n",
       "└────────────┴──────────┴──────────────┘\n",
       "</pre>\n"
      ],
      "text/plain": [
       "\u001b[3m           Decision Variables           \u001b[0m\n",
       "┏━━━━━━━━━━━━┳━━━━━━━━━━┳━━━━━━━━━━━━━━┓\n",
       "┃\u001b[1m \u001b[0m\u001b[1mFeedstock \u001b[0m\u001b[1m \u001b[0m┃\u001b[1m \u001b[0m\u001b[1mGasoline\u001b[0m\u001b[1m \u001b[0m┃\u001b[1m \u001b[0m\u001b[1mGallons Used\u001b[0m\u001b[1m \u001b[0m┃\n",
       "┡━━━━━━━━━━━━╇━━━━━━━━━━╇━━━━━━━━━━━━━━┩\n",
       "│ Alkylate   │ A        │ 37131.064    │\n",
       "│ Alkylate   │ B        │ 34312.268    │\n",
       "│ Alkylate   │ C        │ 68556.668    │\n",
       "│ CCG        │ A        │ 87887.023    │\n",
       "│ CCG        │ B        │ 0.0          │\n",
       "│ CCG        │ C        │ 0.0          │\n",
       "│ SRG        │ A        │ 4899.36      │\n",
       "│ SRG        │ B        │ 73457.249    │\n",
       "│ SRG        │ C        │ 61643.391    │\n",
       "│ Isopentane │ A        │ 82.552639    │\n",
       "│ Isopentane │ B        │ 22230.483    │\n",
       "│ Isopentane │ C        │ 24772.578    │\n",
       "└────────────┴──────────┴──────────────┘\n"
      ]
     },
     "metadata": {},
     "output_type": "display_data"
    },
    {
     "data": {
      "text/html": [
       "<pre style=\"white-space:pre;overflow-x:auto;line-height:normal;font-family:Menlo,'DejaVu Sans Mono',consolas,'Courier New',monospace\">\n",
       "Total revenue : $<span style=\"color: #008080; text-decoration-color: #008080; font-weight: bold\">1</span>,<span style=\"color: #008080; text-decoration-color: #008080; font-weight: bold\">718</span>,<span style=\"color: #008080; text-decoration-color: #008080; font-weight: bold\">021.80</span>\n",
       "</pre>\n"
      ],
      "text/plain": [
       "\n",
       "Total revenue : $\u001b[1;36m1\u001b[0m,\u001b[1;36m718\u001b[0m,\u001b[1;36m021.80\u001b[0m\n"
      ]
     },
     "metadata": {},
     "output_type": "display_data"
    }
   ],
   "source": [
    "\n",
    "console = Console()\n",
    "\n",
    "if pulp.LpStatus[prob.status] == 'Optimal':\n",
    "    print(\"Optimal solution found.\")\n",
    "\n",
    "    # Creating a dictionary to store the decision variables and their values\n",
    "    decision_variables = {\n",
    "        'Feedstock': [],\n",
    "        'Gasoline': [],\n",
    "        'Gallons Used': []\n",
    "    }\n",
    "\n",
    "    # Fill the dictionary with the decision variables and their values\n",
    "    for i, feedstock_name in enumerate(feedstock_names):\n",
    "        for j, gasoline_name in enumerate(gasoline_names):\n",
    "            decision_variables['Feedstock'].append(feedstock_name)\n",
    "            decision_variables['Gasoline'].append(gasoline_name)\n",
    "            decision_variables['Gallons Used'].append(x[(feedstock_name, gasoline_name)].value())\n",
    "\n",
    "    # Converting the dictionary into a DataFrame\n",
    "    df_decision_variables = pd.DataFrame(decision_variables)\n",
    "\n",
    "    # Create a table with rich\n",
    "    table = Table(title=\"Decision Variables\", show_header=True, header_style=\"bold\")\n",
    "\n",
    "    # Add columns to the table\n",
    "    for column in df_decision_variables.columns:\n",
    "        table.add_column(column)\n",
    "\n",
    "    # Add rows to the table\n",
    "    for _, row in df_decision_variables.iterrows():\n",
    "        table.add_row(*row.astype(str).tolist())\n",
    "\n",
    "    # Display the table\n",
    "    console.print(table)\n",
    "\n",
    "    print(f\"\\nTotal revenue : ${prob.objective.value():,.2f}\")\n",
    "\n",
    "else:\n",
    "    print(\"No optimal solution found.\")\n"
   ]
  },
  {
   "cell_type": "code",
   "execution_count": 11,
   "id": "96b499a3",
   "metadata": {},
   "outputs": [
    {
     "data": {
      "text/html": [
       "<pre style=\"white-space:pre;overflow-x:auto;line-height:normal;font-family:Menlo,'DejaVu Sans Mono',consolas,'Courier New',monospace\"><span style=\"font-style: italic\">                   sensitivity analysis of Constraints                   </span>\n",
       "┏━━━━━━━━━━━━━━━━━━━━━━━━━━━━━━━━━━┳━━━━━━━━━━━━━━┳━━━━━━━━━━━━━━━━━━━━━┓\n",
       "┃<span style=\"font-weight: bold\"> name                             </span>┃<span style=\"font-weight: bold\"> shadow price </span>┃<span style=\"font-weight: bold\"> slack               </span>┃\n",
       "┡━━━━━━━━━━━━━━━━━━━━━━━━━━━━━━━━━━╇━━━━━━━━━━━━━━╇━━━━━━━━━━━━━━━━━━━━━┩\n",
       "│ Feedstock_Alkylate_constraint    │ 1.2665105    │ -0.0                │\n",
       "│ Feedstock_CCG_constraint         │ -0.0         │ 42112.977           │\n",
       "│ Feedstock_SRG_constraint         │ 0.44846025   │ -0.0                │\n",
       "│ Feedstock_Isopentane_constraint  │ -0.0         │ 62914.386           │\n",
       "│ Gasoline_A_constraint            │ -0.0         │ -10000.0            │\n",
       "│ Gasoline_B_constraint            │ -0.38903163  │ -0.0                │\n",
       "│ Gasoline_C_constraint            │ -0.0         │ -34972.640000000014 │\n",
       "│ Gasoline_A_ge_B_constraint       │ -0.44037659  │ -0.0                │\n",
       "│ Reid_vapor_pressure_A_constraint │ 0.27230544   │ -0.0                │\n",
       "│ Reid_vapor_pressure_B_constraint │ 0.24001948   │ -0.0                │\n",
       "│ Reid_vapor_pressure_C_constraint │ 0.24001948   │ -0.0                │\n",
       "│ Octane_A_constraint              │ -0.22269038  │ -0.0                │\n",
       "│ Octane_B_constraint              │ -0.18378165  │ 7.9092892e-12       │\n",
       "│ Octane_C_constraint              │ -0.18378165  │ 7.1636916e-12       │\n",
       "└──────────────────────────────────┴──────────────┴─────────────────────┘\n",
       "</pre>\n"
      ],
      "text/plain": [
       "\u001b[3m                   sensitivity analysis of Constraints                   \u001b[0m\n",
       "┏━━━━━━━━━━━━━━━━━━━━━━━━━━━━━━━━━━┳━━━━━━━━━━━━━━┳━━━━━━━━━━━━━━━━━━━━━┓\n",
       "┃\u001b[1m \u001b[0m\u001b[1mname                            \u001b[0m\u001b[1m \u001b[0m┃\u001b[1m \u001b[0m\u001b[1mshadow price\u001b[0m\u001b[1m \u001b[0m┃\u001b[1m \u001b[0m\u001b[1mslack              \u001b[0m\u001b[1m \u001b[0m┃\n",
       "┡━━━━━━━━━━━━━━━━━━━━━━━━━━━━━━━━━━╇━━━━━━━━━━━━━━╇━━━━━━━━━━━━━━━━━━━━━┩\n",
       "│ Feedstock_Alkylate_constraint    │ 1.2665105    │ -0.0                │\n",
       "│ Feedstock_CCG_constraint         │ -0.0         │ 42112.977           │\n",
       "│ Feedstock_SRG_constraint         │ 0.44846025   │ -0.0                │\n",
       "│ Feedstock_Isopentane_constraint  │ -0.0         │ 62914.386           │\n",
       "│ Gasoline_A_constraint            │ -0.0         │ -10000.0            │\n",
       "│ Gasoline_B_constraint            │ -0.38903163  │ -0.0                │\n",
       "│ Gasoline_C_constraint            │ -0.0         │ -34972.640000000014 │\n",
       "│ Gasoline_A_ge_B_constraint       │ -0.44037659  │ -0.0                │\n",
       "│ Reid_vapor_pressure_A_constraint │ 0.27230544   │ -0.0                │\n",
       "│ Reid_vapor_pressure_B_constraint │ 0.24001948   │ -0.0                │\n",
       "│ Reid_vapor_pressure_C_constraint │ 0.24001948   │ -0.0                │\n",
       "│ Octane_A_constraint              │ -0.22269038  │ -0.0                │\n",
       "│ Octane_B_constraint              │ -0.18378165  │ 7.9092892e-12       │\n",
       "│ Octane_C_constraint              │ -0.18378165  │ 7.1636916e-12       │\n",
       "└──────────────────────────────────┴──────────────┴─────────────────────┘\n"
      ]
     },
     "metadata": {},
     "output_type": "display_data"
    }
   ],
   "source": [
    "a = [{'name': name, 'shadow price': c.pi, 'slack': c.slack} for name, c in prob.constraints.items()]\n",
    "\n",
    "# Create DataFrame\n",
    "df_constraints = pd.DataFrame(a)\n",
    "\n",
    "# Create a table with rich\n",
    "table = Table(title=\"sensitivity analysis of Constraints\", show_header=True, header_style=\"bold\")\n",
    "\n",
    "# Add columns to the table\n",
    "for column in df_constraints.columns:\n",
    "    table.add_column(column)\n",
    "\n",
    "# Add rows to the table\n",
    "for _, row in df_constraints.iterrows():\n",
    "    table.add_row(*row.astype(str).tolist())\n",
    "\n",
    "# Display the table\n",
    "console.print(table)"
   ]
  }
 ],
 "metadata": {
  "kernelspec": {
   "display_name": "Python 3 (ipykernel)",
   "language": "python",
   "name": "python3"
  },
  "language_info": {
   "codemirror_mode": {
    "name": "ipython",
    "version": 3
   },
   "file_extension": ".py",
   "mimetype": "text/x-python",
   "name": "python",
   "nbconvert_exporter": "python",
   "pygments_lexer": "ipython3",
   "version": "3.9.12"
  }
 },
 "nbformat": 4,
 "nbformat_minor": 5
}
